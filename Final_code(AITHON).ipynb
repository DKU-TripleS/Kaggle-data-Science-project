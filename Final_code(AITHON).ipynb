{
 "cells": [
  {
   "cell_type": "markdown",
   "id": "88feceb4",
   "metadata": {},
   "source": [
    "## 데이터 확인"
   ]
  },
  {
   "cell_type": "code",
   "execution_count": 1,
   "id": "f22c9886",
   "metadata": {},
   "outputs": [],
   "source": [
    "from sklearn.preprocessing import StandardScaler\n",
    "import pandas as pd\n",
    "import numpy as np\n",
    "import xgboost as xgb\n",
    "from sklearn.metrics import mean_squared_error\n",
    "from sklearn.model_selection import train_test_split"
   ]
  },
  {
   "cell_type": "code",
   "execution_count": 2,
   "id": "e9bde49f",
   "metadata": {},
   "outputs": [],
   "source": [
    "# 파일 읽기\n",
    "train = pd.read_csv(\"train.csv\")\n",
    "test = pd.read_csv(\"test.csv\")"
   ]
  },
  {
   "cell_type": "markdown",
   "id": "19f5b842",
   "metadata": {},
   "source": [
    "### 데이터 전처리 "
   ]
  },
  {
   "cell_type": "markdown",
   "id": "f3016f8d",
   "metadata": {},
   "source": [
    "#### 계절성 확인 및 이상치 보간"
   ]
  },
  {
   "cell_type": "code",
   "execution_count": 3,
   "id": "91b68be1",
   "metadata": {},
   "outputs": [],
   "source": [
    "from statsmodels.tsa.seasonal import seasonal_decompose\n",
    "\n",
    "# 전처리\n",
    "train = train.set_index('datetime')  # datetime 인덱스로 설정\n",
    "\n",
    "# 분해\n",
    "result = seasonal_decompose(train['activePower'], model='additive', period=24)\n",
    "resid = result.resid\n",
    "\n",
    "# 이상치: 잔차가 크면 이상치\n",
    "threshold = 3 * np.nanstd(resid)\n",
    "train['outlier'] = np.abs(resid) > threshold"
   ]
  },
  {
   "cell_type": "code",
   "execution_count": 4,
   "id": "75831923",
   "metadata": {},
   "outputs": [
    {
     "name": "stdout",
     "output_type": "stream",
     "text": [
      "이상치 개수: 4490\n"
     ]
    }
   ],
   "source": [
    "outlier_count = train['outlier'].sum()\n",
    "print(f\"이상치 개수: {outlier_count}\")"
   ]
  },
  {
   "cell_type": "code",
   "execution_count": 5,
   "id": "902031cc",
   "metadata": {},
   "outputs": [],
   "source": [
    "train.loc[train['outlier'], 'activePower'] = np.nan\n",
    "train['activePower'] = train['activePower'].interpolate(method='linear')"
   ]
  },
  {
   "cell_type": "code",
   "execution_count": 6,
   "id": "a4ab7706",
   "metadata": {},
   "outputs": [],
   "source": [
    "train = train.reset_index() \n",
    "test = test.reset_index() \n",
    "train['datetime'] = pd.to_datetime(train['datetime'])\n",
    "test['datetime'] = pd.to_datetime(test['datetime'])"
   ]
  },
  {
   "cell_type": "markdown",
   "id": "7c90e4ee",
   "metadata": {},
   "source": [
    "#### 노이즈 제거"
   ]
  },
  {
   "cell_type": "code",
   "execution_count": 7,
   "id": "481148fb",
   "metadata": {},
   "outputs": [],
   "source": [
    "# 추세 유지\n",
    "from scipy.signal import savgol_filter\n",
    "\n",
    "train['activePower_n'] = savgol_filter(train['activePower'], window_length=101, polyorder=2)\n",
    "test['activePower_n'] = savgol_filter(test['activePower'], window_length=101, polyorder=2)"
   ]
  },
  {
   "cell_type": "markdown",
   "id": "de798414",
   "metadata": {},
   "source": [
    "## 데이터 분석"
   ]
  },
  {
   "cell_type": "code",
   "execution_count": 8,
   "id": "cafad17b",
   "metadata": {},
   "outputs": [],
   "source": [
    "def create_time_features(df):\n",
    "    df['minute'] = df['datetime'].dt.minute\n",
    "    df['day'] = df['datetime'].dt.day\n",
    "    df['year'] = df['datetime'].dt.year \n",
    "    df['hour'] = df['datetime'].dt.hour\n",
    "    df['dayofweek'] = df['datetime'].dt.dayofweek\n",
    "    df['month'] = df['datetime'].dt.month\n",
    "    return df"
   ]
  },
  {
   "cell_type": "code",
   "execution_count": 9,
   "id": "46eb1b18",
   "metadata": {},
   "outputs": [],
   "source": [
    "train = create_time_features(train)\n",
    "test = create_time_features(test)"
   ]
  },
  {
   "cell_type": "code",
   "execution_count": 10,
   "id": "16247e41",
   "metadata": {},
   "outputs": [],
   "source": [
    "# 평균 전압/전류\n",
    "train['voltage_mean'] = train[['voltageR', 'voltageS', 'voltageT']].mean(axis=1)\n",
    "test['voltage_mean'] = test[['voltageR', 'voltageS', 'voltageT']].mean(axis=1)\n",
    "\n",
    "train['current_mean'] = train[['currentR', 'currentS', 'currentT']].mean(axis=1)\n",
    "test['current_mean'] = test[['currentR', 'currentS', 'currentT']].mean(axis=1)\n",
    "\n",
    "train['current_std'] = train[['currentR', 'currentS', 'currentT']].std(axis=1)\n",
    "test['current_std'] = test[['currentR', 'currentS', 'currentT']].std(axis=1)"
   ]
  },
  {
   "cell_type": "code",
   "execution_count": null,
   "id": "76ef3902",
   "metadata": {},
   "outputs": [],
   "source": [
    "features_cols = [\n",
    "    'voltageR', 'voltageS',\n",
    "    'voltageRS', 'voltageST', 'voltageTR',\n",
    "    'currentR', 'currentS', 'currentT',\n",
    "    'activePower_n',\n",
    "    'powerFactorR', 'powerFactorS', 'powerFactorT',\n",
    "    'reactivePowerLagging',\n",
    "    'accumActiveEnergy','minute','day',\n",
    "    'hour', 'dayofweek', 'month',\n",
    "    'voltage_mean', 'current_mean','current_std'\n",
    "]\n",
    "\n",
    "target_col = 'activePower_n'"
   ]
  },
  {
   "cell_type": "code",
   "execution_count": 12,
   "id": "2d36b350",
   "metadata": {},
   "outputs": [],
   "source": [
    "X_train = train[features_cols]\n",
    "y_train = train[target_col]\n",
    "X_test = test[features_cols]\n",
    "y_test = test[target_col]"
   ]
  },
  {
   "cell_type": "code",
   "execution_count": 13,
   "id": "bd452a88",
   "metadata": {},
   "outputs": [],
   "source": [
    "dtrain = xgb.DMatrix(X_train, label=y_train)\n",
    "dvalid = xgb.DMatrix(X_test, label=y_test)"
   ]
  },
  {
   "cell_type": "code",
   "execution_count": 14,
   "id": "ddf85be7",
   "metadata": {},
   "outputs": [
    {
     "name": "stdout",
     "output_type": "stream",
     "text": [
      "[0]\ttrain-rmse:107.23161\tvalid-rmse:106.88885\n",
      "[100]\ttrain-rmse:10.74899\tvalid-rmse:10.70184\n",
      "[200]\ttrain-rmse:3.05399\tvalid-rmse:3.01776\n",
      "[300]\ttrain-rmse:2.92458\tvalid-rmse:2.89301\n",
      "[400]\ttrain-rmse:2.91450\tvalid-rmse:2.89473\n",
      "[409]\ttrain-rmse:2.91312\tvalid-rmse:2.89484\n"
     ]
    }
   ],
   "source": [
    "params = {\n",
    "    'objective': 'reg:squarederror',\n",
    "    'eval_metric': 'rmse',\n",
    "    'learning_rate': 0.03,\n",
    "    'max_depth': 6,\n",
    "    'min_child_weight': 3,\n",
    "    'subsample': 0.8,\n",
    "    'colsample_bytree': 0.8,\n",
    "    'reg_alpha': 0.1,\n",
    "    'reg_lambda': 1.0,\n",
    "    'seed': 42\n",
    "}\n",
    "\n",
    "# 🚀 모델 학습 \n",
    "model = xgb.train(\n",
    "    params=params,\n",
    "    dtrain=dtrain,\n",
    "    num_boost_round=1000,\n",
    "    evals=[(dtrain, 'train'), (dvalid, 'valid')],\n",
    "    early_stopping_rounds=100,\n",
    "    verbose_eval=100\n",
    ")"
   ]
  },
  {
   "cell_type": "markdown",
   "id": "80c384a4",
   "metadata": {},
   "source": [
    "### RMSE, MAE, SMAPE"
   ]
  },
  {
   "cell_type": "code",
   "execution_count": 15,
   "id": "9c0dbb35",
   "metadata": {},
   "outputs": [
    {
     "name": "stdout",
     "output_type": "stream",
     "text": [
      "✅ XGBoost RMSE:  8.3800\n",
      "✅ XGBoost MAE:   0.7395\n",
      "✅ XGBoost SMAPE: 0.0247%\n"
     ]
    }
   ],
   "source": [
    "from sklearn.metrics import mean_absolute_error, mean_squared_error\n",
    "\n",
    "# 기존 RMSE\n",
    "y_pred = model.predict(dvalid)\n",
    "rmse = mean_squared_error(y_test, y_pred)\n",
    "\n",
    "# MAE\n",
    "mae = mean_absolute_error(y_test, y_pred)\n",
    "\n",
    "# SMAPE 계산 함수\n",
    "def smape(y_true, y_pred):\n",
    "    return 100 * np.mean(2 * np.abs(y_pred - y_true) / (np.abs(y_true) + np.abs(y_pred) + 1e-8))\n",
    "\n",
    "smape_score = smape(y_test.values, y_pred)\n",
    "\n",
    "# 출력\n",
    "print(f\"✅ XGBoost RMSE:  {rmse:.4f}\")\n",
    "print(f\"✅ XGBoost MAE:   {mae:.4f}\")\n",
    "print(f\"✅ XGBoost SMAPE: {smape_score:.4f}%\")"
   ]
  },
  {
   "cell_type": "markdown",
   "id": "db653d7c",
   "metadata": {},
   "source": [
    "# scale_factor 계산"
   ]
  },
  {
   "cell_type": "markdown",
   "id": "fd48ac6c",
   "metadata": {},
   "source": [
    "## 4월 예측"
   ]
  },
  {
   "cell_type": "code",
   "execution_count": 16,
   "id": "a25690f6",
   "metadata": {},
   "outputs": [
    {
     "name": "stderr",
     "output_type": "stream",
     "text": [
      "C:\\Users\\tw710\\AppData\\Local\\Temp\\ipykernel_26224\\938407257.py:2: FutureWarning: 'H' is deprecated and will be removed in a future version, please use 'h' instead.\n",
      "  hours = pd.date_range(start=\"2025-04-01 00:00:00\", periods=672, freq='H')\n",
      "C:\\Users\\tw710\\AppData\\Local\\Temp\\ipykernel_26224\\938407257.py:52: FutureWarning: 'H' is deprecated and will be removed in a future version, please use 'h' instead.\n",
      "  test_april['hour'] = test_april['datetime'].dt.floor('H')\n"
     ]
    },
    {
     "name": "stdout",
     "output_type": "stream",
     "text": [
      "✅ True April avg: 39072.0612\n",
      "✅ Pred April avg: 2692.0840\n",
      "🚀 스케일 팩터 계산됨: 14.5137\n"
     ]
    }
   ],
   "source": [
    "# 1. 4월 데이터 생성\n",
    "hours = pd.date_range(start=\"2025-04-01 00:00:00\", periods=672, freq='H')\n",
    "april_fake = pd.DataFrame({'datetime': hours})\n",
    "april_fake['minute'] = april_fake['datetime'].dt.minute\n",
    "april_fake['day'] = april_fake['datetime'].dt.day\n",
    "april_fake['year'] = april_fake['datetime'].dt.year\n",
    "april_fake['hour'] = april_fake['datetime'].dt.hour\n",
    "april_fake['dayofweek'] = april_fake['datetime'].dt.dayofweek\n",
    "april_fake['month'] = april_fake['datetime'].dt.month\n",
    "\n",
    "np.random.seed(42)\n",
    "april_fake['voltage_mean'] = april_fake['hour'].apply(lambda h: np.random.normal(220, 2) if 8 <= h <= 20 else np.random.normal(215, 2))\n",
    "april_fake['current_mean'] = np.random.normal(15.5, 2, size=672)\n",
    "april_fake['reactivePowerLagging'] = np.random.normal(320, 50, size=672)\n",
    "april_fake['powerFactorR'] = np.random.normal(95, 2, size=672)\n",
    "april_fake['powerFactorS'] = np.random.normal(94, 2, size=672)\n",
    "april_fake['powerFactorT'] = np.random.normal(93, 2, size=672)\n",
    "april_fake = april_fake.sort_values('datetime').reset_index(drop=True)\n",
    "april_fake['accumActiveEnergy'] = 0\n",
    "april_fake['currentR'] = np.random.normal(15.5, 2, size=672)\n",
    "april_fake['currentS'] = np.random.normal(15.5, 2, size=672)\n",
    "april_fake['currentT'] = np.random.normal(15.5, 2, size=672)\n",
    "april_fake['current_std'] = april_fake[['currentR', 'currentS', 'currentT']].std(axis=1)\n",
    "\n",
    "# 2. 훈련 시 사용한 features_cols 정의 (정확히 훈련 시 썼던 순서대로!)\n",
    "features_cols = [\n",
    "    'voltageR', 'voltageS', \n",
    "    'voltageRS', 'voltageST', 'voltageTR',\n",
    "    'currentR', 'currentS', 'currentT',\n",
    "    'activePower_n',\n",
    "    'powerFactorR', 'powerFactorS', 'powerFactorT',\n",
    "    'reactivePowerLagging',\n",
    "    'accumActiveEnergy','minute','day',\n",
    "    'hour', 'dayofweek', 'month',\n",
    "    'voltage_mean', 'current_mean','current_std'\n",
    "]\n",
    "\n",
    "# 3. 누락된 컬럼을 0으로 채움\n",
    "for col in features_cols:\n",
    "    if col not in april_fake.columns:\n",
    "        april_fake[col] = 0\n",
    "\n",
    "\n",
    "# 4. 예측\n",
    "dtest_april = xgb.DMatrix(april_fake[features_cols], enable_categorical=True)\n",
    "april_fake['hourly_pow_pred'] = model.predict(dtest_april)\n",
    "\n",
    "# 5. 실제 4월 데이터 평균값 계산\n",
    "test['datetime'] = pd.to_datetime(test['timestamp'], unit='ms')\n",
    "test_april = test[(test['datetime'] >= '2025-04-01') & (test['datetime'] < '2025-05-01')].copy()\n",
    "test_april['kWh'] = test_april['activePower'] * (5 / 3600)\n",
    "test_april['hour'] = test_april['datetime'].dt.floor('H')\n",
    "true_hourly = test_april.groupby('hour')['kWh'].sum().reset_index(name='true_hourly_pow')\n",
    "\n",
    "# 6. 스케일 팩터 계산\n",
    "true_avg = true_hourly['true_hourly_pow'].mean()\n",
    "pred_avg = april_fake['hourly_pow_pred'].mean()\n",
    "scale_factor = true_avg / pred_avg\n",
    "\n",
    "print(f\"✅ True April avg: {true_avg:.4f}\")\n",
    "print(f\"✅ Pred April avg: {pred_avg:.4f}\")\n",
    "print(f\"🚀 스케일 팩터 계산됨: {scale_factor:.4f}\")"
   ]
  },
  {
   "cell_type": "markdown",
   "id": "735eee2b",
   "metadata": {},
   "source": [
    "## scaled 적용 예측"
   ]
  },
  {
   "cell_type": "code",
   "execution_count": 17,
   "id": "0b0fab7a",
   "metadata": {},
   "outputs": [
    {
     "name": "stderr",
     "output_type": "stream",
     "text": [
      "C:\\Users\\tw710\\AppData\\Local\\Temp\\ipykernel_26224\\1416115827.py:3: FutureWarning: 'H' is deprecated and will be removed in a future version, please use 'h' instead.\n",
      "  'datetime': pd.date_range(\"2025-05-01 00:00:00\", \"2025-05-28 23:00:00\", freq='1H')\n",
      "C:\\Users\\tw710\\AppData\\Local\\Temp\\ipykernel_26224\\1416115827.py:57: FutureWarning: 'H' is deprecated and will be removed in a future version, please use 'h' instead.\n",
      "  'id': pd.date_range(start='2025-05-01 00:00:00', periods=672, freq='1H').strftime('%Y-%m-%d %H:%M:%S'),\n"
     ]
    }
   ],
   "source": [
    "# 1. 미래 시간 생성 (5월 한 달)\n",
    "future_df = pd.DataFrame({\n",
    "    'datetime': pd.date_range(\"2025-05-01 00:00:00\", \"2025-05-28 23:00:00\", freq='1H')\n",
    "})\n",
    "\n",
    "# 시간 기반 파생 변수\n",
    "future_df['minute'] = future_df['datetime'].dt.minute\n",
    "future_df['day'] = future_df['datetime'].dt.day\n",
    "future_df['year'] = future_df['datetime'].dt.year\n",
    "future_df['hour'] = future_df['datetime'].dt.hour\n",
    "future_df['dayofweek'] = future_df['datetime'].dt.dayofweek\n",
    "future_df['month'] = future_df['datetime'].dt.month\n",
    "\n",
    "# 랜덤/규칙 기반 피처 생성\n",
    "np.random.seed(42)\n",
    "future_df['voltage_mean'] = future_df['hour'].apply(lambda h: np.random.normal(220, 2) if 8 <= h <= 20 else np.random.normal(215, 2))\n",
    "future_df['current_mean'] = np.random.normal(15.5, 2, size=len(future_df))\n",
    "future_df['reactivePowerLagging'] = np.random.normal(320, 50, size=len(future_df))\n",
    "future_df['powerFactorR'] = np.random.normal(95, 2, size=len(future_df))\n",
    "future_df['powerFactorS'] = np.random.normal(94, 2, size=len(future_df))\n",
    "future_df['powerFactorT'] = np.random.normal(93, 2, size=len(future_df))\n",
    "future_df['accumActiveEnergy'] = 0\n",
    "\n",
    "# 센서 기반 가상 데이터\n",
    "future_df['voltageR'] = np.random.normal(220, 2, size=len(future_df))\n",
    "future_df['voltageS'] = np.random.normal(220, 2, size=len(future_df))\n",
    "future_df['voltageRS'] = np.random.normal(380, 5, size=len(future_df))\n",
    "future_df['voltageST'] = np.random.normal(380, 5, size=len(future_df))\n",
    "future_df['voltageTR'] = np.random.normal(380, 5, size=len(future_df))\n",
    "future_df['currentR'] = np.random.normal(15.5, 2, size=len(future_df))\n",
    "future_df['currentS'] = np.random.normal(15.5, 2, size=len(future_df))\n",
    "future_df['currentT'] = np.random.normal(15.5, 2, size=len(future_df))\n",
    "future_df['activePower_n'] = np.random.normal(15.5, 2, size=len(future_df))\n",
    "future_df['current_std'] = np.random.normal(15.5, 2, size=len(future_df))\n",
    "april_fake = april_fake.sort_values('datetime').reset_index(drop=True)\n",
    "\n",
    "future_df['hourly_pow_pred'] = np.random.normal(15, 3, size=len(future_df))  # 임시 값\n",
    "\n",
    "# 8. 누락된 피처 보정\n",
    "for col in features_cols:\n",
    "    if col not in future_df.columns:\n",
    "        future_df[col] = 0\n",
    "\n",
    "# . 예측 수행\n",
    "dtest_future = xgb.DMatrix(future_df[features_cols])\n",
    "future_df['hourly_pow_pred'] = model.predict(dtest_future)\n",
    "\n",
    "# 예측값을 적용\n",
    "future_df['hourly_pow'] = future_df['hourly_pow_pred'] * scale_factor\n",
    "\n",
    "# 9. 최종 집계 및 계산\n",
    "agg_pow = future_df['hourly_pow'].sum()\n",
    "may_bill = agg_pow * 180        # 요금 계산 예시 (원)\n",
    "may_carbon = agg_pow * 0.424    # 탄소배출 계산 예시 (kg CO2)\n",
    "\n",
    "submission = pd.DataFrame({\n",
    "    'id': pd.date_range(start='2025-05-01 00:00:00', periods=672, freq='1H').strftime('%Y-%m-%d %H:%M:%S'),\n",
    "    'hourly_pow': future_df['hourly_pow'],\n",
    "    'agg_pow': [agg_pow] * 672,\n",
    "    'may_bill': [may_bill] * 672,\n",
    "    'may_carbon': [may_carbon] * 672\n",
    "})\n",
    "submission.to_csv(\"submission8.csv\", index=False, encoding=\"utf-8-sig\")"
   ]
  },
  {
   "cell_type": "code",
   "execution_count": 21,
   "id": "ac336c51",
   "metadata": {},
   "outputs": [],
   "source": [
    "future_df['date'] = future_df['datetime'].dt.date\n",
    "\n",
    "# 일별 전력량 예측 (kWh 단위)\n",
    "daily_pow = future_df.groupby('date')['hourly_pow_pred'].sum().reset_index()\n",
    "daily_pow.columns = ['date', 'daily_kWh_pred']"
   ]
  },
  {
   "cell_type": "code",
   "execution_count": 22,
   "id": "d8e3a1ca",
   "metadata": {},
   "outputs": [
    {
     "data": {
      "text/html": [
       "<div>\n",
       "<style scoped>\n",
       "    .dataframe tbody tr th:only-of-type {\n",
       "        vertical-align: middle;\n",
       "    }\n",
       "\n",
       "    .dataframe tbody tr th {\n",
       "        vertical-align: top;\n",
       "    }\n",
       "\n",
       "    .dataframe thead th {\n",
       "        text-align: right;\n",
       "    }\n",
       "</style>\n",
       "<table border=\"1\" class=\"dataframe\">\n",
       "  <thead>\n",
       "    <tr style=\"text-align: right;\">\n",
       "      <th></th>\n",
       "      <th>date</th>\n",
       "      <th>daily_kWh_pred</th>\n",
       "    </tr>\n",
       "  </thead>\n",
       "  <tbody>\n",
       "    <tr>\n",
       "      <th>0</th>\n",
       "      <td>2025-05-01</td>\n",
       "      <td>64617.359375</td>\n",
       "    </tr>\n",
       "    <tr>\n",
       "      <th>1</th>\n",
       "      <td>2025-05-02</td>\n",
       "      <td>64614.406250</td>\n",
       "    </tr>\n",
       "    <tr>\n",
       "      <th>2</th>\n",
       "      <td>2025-05-03</td>\n",
       "      <td>64612.125000</td>\n",
       "    </tr>\n",
       "    <tr>\n",
       "      <th>3</th>\n",
       "      <td>2025-05-04</td>\n",
       "      <td>64647.078125</td>\n",
       "    </tr>\n",
       "    <tr>\n",
       "      <th>4</th>\n",
       "      <td>2025-05-05</td>\n",
       "      <td>64618.468750</td>\n",
       "    </tr>\n",
       "    <tr>\n",
       "      <th>5</th>\n",
       "      <td>2025-05-06</td>\n",
       "      <td>64618.332031</td>\n",
       "    </tr>\n",
       "    <tr>\n",
       "      <th>6</th>\n",
       "      <td>2025-05-07</td>\n",
       "      <td>64616.781250</td>\n",
       "    </tr>\n",
       "    <tr>\n",
       "      <th>7</th>\n",
       "      <td>2025-05-08</td>\n",
       "      <td>64616.804688</td>\n",
       "    </tr>\n",
       "    <tr>\n",
       "      <th>8</th>\n",
       "      <td>2025-05-09</td>\n",
       "      <td>64617.761719</td>\n",
       "    </tr>\n",
       "    <tr>\n",
       "      <th>9</th>\n",
       "      <td>2025-05-10</td>\n",
       "      <td>64617.406250</td>\n",
       "    </tr>\n",
       "    <tr>\n",
       "      <th>10</th>\n",
       "      <td>2025-05-11</td>\n",
       "      <td>64641.253906</td>\n",
       "    </tr>\n",
       "    <tr>\n",
       "      <th>11</th>\n",
       "      <td>2025-05-12</td>\n",
       "      <td>64607.500000</td>\n",
       "    </tr>\n",
       "    <tr>\n",
       "      <th>12</th>\n",
       "      <td>2025-05-13</td>\n",
       "      <td>64610.445312</td>\n",
       "    </tr>\n",
       "    <tr>\n",
       "      <th>13</th>\n",
       "      <td>2025-05-14</td>\n",
       "      <td>64614.742188</td>\n",
       "    </tr>\n",
       "    <tr>\n",
       "      <th>14</th>\n",
       "      <td>2025-05-15</td>\n",
       "      <td>64615.187500</td>\n",
       "    </tr>\n",
       "    <tr>\n",
       "      <th>15</th>\n",
       "      <td>2025-05-16</td>\n",
       "      <td>64615.300781</td>\n",
       "    </tr>\n",
       "    <tr>\n",
       "      <th>16</th>\n",
       "      <td>2025-05-17</td>\n",
       "      <td>64609.242188</td>\n",
       "    </tr>\n",
       "    <tr>\n",
       "      <th>17</th>\n",
       "      <td>2025-05-18</td>\n",
       "      <td>64642.621094</td>\n",
       "    </tr>\n",
       "    <tr>\n",
       "      <th>18</th>\n",
       "      <td>2025-05-19</td>\n",
       "      <td>64617.855469</td>\n",
       "    </tr>\n",
       "    <tr>\n",
       "      <th>19</th>\n",
       "      <td>2025-05-20</td>\n",
       "      <td>64615.187500</td>\n",
       "    </tr>\n",
       "    <tr>\n",
       "      <th>20</th>\n",
       "      <td>2025-05-21</td>\n",
       "      <td>64615.628906</td>\n",
       "    </tr>\n",
       "    <tr>\n",
       "      <th>21</th>\n",
       "      <td>2025-05-22</td>\n",
       "      <td>64608.039062</td>\n",
       "    </tr>\n",
       "    <tr>\n",
       "      <th>22</th>\n",
       "      <td>2025-05-23</td>\n",
       "      <td>64609.367188</td>\n",
       "    </tr>\n",
       "    <tr>\n",
       "      <th>23</th>\n",
       "      <td>2025-05-24</td>\n",
       "      <td>64611.468750</td>\n",
       "    </tr>\n",
       "    <tr>\n",
       "      <th>24</th>\n",
       "      <td>2025-05-25</td>\n",
       "      <td>64647.230469</td>\n",
       "    </tr>\n",
       "    <tr>\n",
       "      <th>25</th>\n",
       "      <td>2025-05-26</td>\n",
       "      <td>64626.324219</td>\n",
       "    </tr>\n",
       "    <tr>\n",
       "      <th>26</th>\n",
       "      <td>2025-05-27</td>\n",
       "      <td>64608.003906</td>\n",
       "    </tr>\n",
       "    <tr>\n",
       "      <th>27</th>\n",
       "      <td>2025-05-28</td>\n",
       "      <td>64599.023438</td>\n",
       "    </tr>\n",
       "  </tbody>\n",
       "</table>\n",
       "</div>"
      ],
      "text/plain": [
       "          date  daily_kWh_pred\n",
       "0   2025-05-01    64617.359375\n",
       "1   2025-05-02    64614.406250\n",
       "2   2025-05-03    64612.125000\n",
       "3   2025-05-04    64647.078125\n",
       "4   2025-05-05    64618.468750\n",
       "5   2025-05-06    64618.332031\n",
       "6   2025-05-07    64616.781250\n",
       "7   2025-05-08    64616.804688\n",
       "8   2025-05-09    64617.761719\n",
       "9   2025-05-10    64617.406250\n",
       "10  2025-05-11    64641.253906\n",
       "11  2025-05-12    64607.500000\n",
       "12  2025-05-13    64610.445312\n",
       "13  2025-05-14    64614.742188\n",
       "14  2025-05-15    64615.187500\n",
       "15  2025-05-16    64615.300781\n",
       "16  2025-05-17    64609.242188\n",
       "17  2025-05-18    64642.621094\n",
       "18  2025-05-19    64617.855469\n",
       "19  2025-05-20    64615.187500\n",
       "20  2025-05-21    64615.628906\n",
       "21  2025-05-22    64608.039062\n",
       "22  2025-05-23    64609.367188\n",
       "23  2025-05-24    64611.468750\n",
       "24  2025-05-25    64647.230469\n",
       "25  2025-05-26    64626.324219\n",
       "26  2025-05-27    64608.003906\n",
       "27  2025-05-28    64599.023438"
      ]
     },
     "execution_count": 22,
     "metadata": {},
     "output_type": "execute_result"
    }
   ],
   "source": [
    "daily_pow"
   ]
  },
  {
   "cell_type": "code",
   "execution_count": 23,
   "id": "a882712e",
   "metadata": {},
   "outputs": [],
   "source": [
    "future_df['week'] = future_df['datetime'].dt.isocalendar().week\n",
    "\n",
    "# 주별 전력 예측 (kWh)\n",
    "weekly_pow = future_df.groupby('week')['hourly_pow_pred'].sum().reset_index()\n",
    "weekly_pow.columns = ['week', 'weekly_kWh_pred']"
   ]
  },
  {
   "cell_type": "code",
   "execution_count": 24,
   "id": "614a6c89",
   "metadata": {},
   "outputs": [
    {
     "data": {
      "text/html": [
       "<div>\n",
       "<style scoped>\n",
       "    .dataframe tbody tr th:only-of-type {\n",
       "        vertical-align: middle;\n",
       "    }\n",
       "\n",
       "    .dataframe tbody tr th {\n",
       "        vertical-align: top;\n",
       "    }\n",
       "\n",
       "    .dataframe thead th {\n",
       "        text-align: right;\n",
       "    }\n",
       "</style>\n",
       "<table border=\"1\" class=\"dataframe\">\n",
       "  <thead>\n",
       "    <tr style=\"text-align: right;\">\n",
       "      <th></th>\n",
       "      <th>week</th>\n",
       "      <th>weekly_kWh_pred</th>\n",
       "    </tr>\n",
       "  </thead>\n",
       "  <tbody>\n",
       "    <tr>\n",
       "      <th>0</th>\n",
       "      <td>18</td>\n",
       "      <td>258490.96875</td>\n",
       "    </tr>\n",
       "    <tr>\n",
       "      <th>1</th>\n",
       "      <td>19</td>\n",
       "      <td>452346.81250</td>\n",
       "    </tr>\n",
       "    <tr>\n",
       "      <th>2</th>\n",
       "      <td>20</td>\n",
       "      <td>452315.03125</td>\n",
       "    </tr>\n",
       "    <tr>\n",
       "      <th>3</th>\n",
       "      <td>21</td>\n",
       "      <td>452324.78125</td>\n",
       "    </tr>\n",
       "    <tr>\n",
       "      <th>4</th>\n",
       "      <td>22</td>\n",
       "      <td>193833.34375</td>\n",
       "    </tr>\n",
       "  </tbody>\n",
       "</table>\n",
       "</div>"
      ],
      "text/plain": [
       "   week  weekly_kWh_pred\n",
       "0    18     258490.96875\n",
       "1    19     452346.81250\n",
       "2    20     452315.03125\n",
       "3    21     452324.78125\n",
       "4    22     193833.34375"
      ]
     },
     "execution_count": 24,
     "metadata": {},
     "output_type": "execute_result"
    }
   ],
   "source": [
    "weekly_pow"
   ]
  },
  {
   "cell_type": "code",
   "execution_count": null,
   "id": "1150e3b8",
   "metadata": {},
   "outputs": [
    {
     "name": "stdout",
     "output_type": "stream",
     "text": [
      "💡 5월 총 예측 전력사용량: 1809311.00 kWh\n",
      "💰 5월 예측 전기요금: 325,675,968 원\n"
     ]
    }
   ],
   "source": [
    "unit_price = 180  \n",
    "total_kWh = future_df['hourly_pow_pred'].sum()\n",
    "total_bill = total_kWh * unit_price\n",
    "\n",
    "print(f\"💡 5월 총 예측 전력사용량: {total_kWh:.2f} kWh\")\n",
    "print(f\"💰 5월 예측 전기요금: {total_bill:,.0f} 원\")"
   ]
  },
  {
   "cell_type": "code",
   "execution_count": null,
   "id": "c2339a89",
   "metadata": {},
   "outputs": [
    {
     "name": "stdout",
     "output_type": "stream",
     "text": [
      "🌿 5월 탄소배출량 예측: 767,147.88 kg CO₂\n"
     ]
    }
   ],
   "source": [
    "carbon_factor = 0.424\n",
    "total_carbon = total_kWh * carbon_factor\n",
    "\n",
    "print(f\"🌿 5월 탄소배출량 예측: {total_carbon:,.2f} kg CO₂\")"
   ]
  }
 ],
 "metadata": {
  "kernelspec": {
   "display_name": "Python 3",
   "language": "python",
   "name": "python3"
  },
  "language_info": {
   "codemirror_mode": {
    "name": "ipython",
    "version": 3
   },
   "file_extension": ".py",
   "mimetype": "text/x-python",
   "name": "python",
   "nbconvert_exporter": "python",
   "pygments_lexer": "ipython3",
   "version": "3.11.9"
  }
 },
 "nbformat": 4,
 "nbformat_minor": 5
}
